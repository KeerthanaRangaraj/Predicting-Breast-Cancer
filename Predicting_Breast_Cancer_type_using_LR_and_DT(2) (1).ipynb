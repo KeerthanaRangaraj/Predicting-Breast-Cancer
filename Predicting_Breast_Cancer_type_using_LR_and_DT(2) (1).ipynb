{
 "cells": [
  {
   "cell_type": "markdown",
   "id": "1c04cf35",
   "metadata": {},
   "source": [
    "# Predicting Breast Cancer Types using Logistic and Decision Tree"
   ]
  },
  {
   "cell_type": "markdown",
   "id": "2aae780b",
   "metadata": {},
   "source": [
    "# Import Data Set"
   ]
  },
  {
   "cell_type": "code",
   "execution_count": null,
   "id": "88bd7b52",
   "metadata": {},
   "outputs": [],
   "source": [
    "# Importing the Libraries\n",
    "import pandas as pd\n",
    "import seaborn as sns\n",
    "import matplotlib.pyplot as plt\n",
    "import numpy as np\n",
    "from sklearn import metrics\n",
    "import hvplot.pandas\n",
    "import itertools\n",
    "import plotly.graph_objs as go\n",
    "import plotly.tools as tls\n",
    "import plotly.figure_factory as ff\n",
    "import plotly.offline as py\n",
    "from sklearn.model_selection import GridSearchCV\n",
    "from sklearn.model_selection import train_test_split\n",
    "import warnings\n",
    "warnings.filterwarnings(\"ignore\")"
   ]
  },
  {
   "cell_type": "code",
   "execution_count": null,
   "id": "5ba52159",
   "metadata": {},
   "outputs": [],
   "source": [
    "BC = pd.read_csv(\"breast_cancer_prediction.csv\")"
   ]
  },
  {
   "cell_type": "code",
   "execution_count": null,
   "id": "3361f24f",
   "metadata": {
    "scrolled": true
   },
   "outputs": [],
   "source": [
    "BC.head()"
   ]
  },
  {
   "cell_type": "markdown",
   "id": "8fd8153b",
   "metadata": {},
   "source": [
    "# Preprocessing"
   ]
  },
  {
   "cell_type": "code",
   "execution_count": null,
   "id": "9ffe98fc",
   "metadata": {},
   "outputs": [],
   "source": [
    "BC['diagnosis'].replace(['M', 'B'],\n",
    "                        [1, 0], inplace=True)"
   ]
  },
  {
   "cell_type": "code",
   "execution_count": null,
   "id": "c85ed25f",
   "metadata": {},
   "outputs": [],
   "source": [
    "print(\"Cancer data set dimensions : {}\".format(BC.shape))\n"
   ]
  },
  {
   "cell_type": "markdown",
   "id": "a6be9bca",
   "metadata": {},
   "source": [
    "***Checking Null and Missing Values***"
   ]
  },
  {
   "cell_type": "code",
   "execution_count": null,
   "id": "6895dc30",
   "metadata": {},
   "outputs": [],
   "source": [
    "print(\"\\nNull Values:\\n\", BC.isnull().sum())\n",
    "print(\"\\nMissing Values:\\n\", BC.isna().sum())"
   ]
  },
  {
   "cell_type": "code",
   "execution_count": null,
   "id": "a081051e",
   "metadata": {},
   "outputs": [],
   "source": []
  },
  {
   "cell_type": "markdown",
   "id": "646b37d8",
   "metadata": {},
   "source": [
    "***Information of dataset***"
   ]
  },
  {
   "cell_type": "code",
   "execution_count": null,
   "id": "b6342b01",
   "metadata": {},
   "outputs": [],
   "source": [
    "BC.info()"
   ]
  },
  {
   "cell_type": "markdown",
   "id": "954d3a4f",
   "metadata": {},
   "source": [
    "After checking various aspects like null values count, missing values count, and info. This dataset is perfect because of no Nul and missing values."
   ]
  },
  {
   "cell_type": "markdown",
   "id": "09eba972",
   "metadata": {},
   "source": [
    "***Statistical Description of Data***"
   ]
  },
  {
   "cell_type": "code",
   "execution_count": null,
   "id": "939b1ded",
   "metadata": {},
   "outputs": [],
   "source": [
    "BC.describe()"
   ]
  },
  {
   "cell_type": "markdown",
   "id": "473cc1b3",
   "metadata": {},
   "source": [
    "***Extracting Mean, Squared Error, and Worst Features***"
   ]
  },
  {
   "cell_type": "code",
   "execution_count": null,
   "id": "587ff0c2",
   "metadata": {},
   "outputs": [],
   "source": [
    "BC_mean = BC[BC.columns[:11]]\n",
    "BC_se = BC.drop(BC.columns[1:11], axis=1)\n",
    "BC_se = BC_se.drop(BC_se.columns[11:], axis=1)\n",
    "BC_worst = BC.drop(BC.columns[1:21], axis=1)"
   ]
  },
  {
   "cell_type": "code",
   "execution_count": null,
   "id": "8255400c",
   "metadata": {},
   "outputs": [],
   "source": [
    "BC_mean"
   ]
  },
  {
   "cell_type": "code",
   "execution_count": null,
   "id": "9e351018",
   "metadata": {},
   "outputs": [],
   "source": [
    "BC_worst"
   ]
  },
  {
   "cell_type": "markdown",
   "id": "ddd89bf7",
   "metadata": {},
   "source": [
    "# Explorartory Data Analysis (EDA)"
   ]
  },
  {
   "cell_type": "markdown",
   "id": "09370f30",
   "metadata": {},
   "source": [
    "***Count Plot of Diagnosis***"
   ]
  },
  {
   "cell_type": "code",
   "execution_count": null,
   "id": "14e747fa",
   "metadata": {},
   "outputs": [],
   "source": [
    "# I visualized target data in the dataset.\n",
    "sns.countplot(BC['diagnosis'])\n",
    "print(BC.diagnosis.value_counts())"
   ]
  },
  {
   "cell_type": "markdown",
   "id": "0add5834",
   "metadata": {},
   "source": [
    "***Pie chart of Diagnosis***"
   ]
  },
  {
   "cell_type": "code",
   "execution_count": null,
   "id": "ca9d99d1",
   "metadata": {},
   "outputs": [],
   "source": [
    "import plotly.express as px\n",
    "\n",
    "\n",
    "fig = px.pie(BC, values=BC['diagnosis'].value_counts().values, names=BC['diagnosis'].value_counts().index)\n",
    "fig.show()"
   ]
  },
  {
   "cell_type": "markdown",
   "id": "fce60608",
   "metadata": {},
   "source": [
    "***Heat Map***"
   ]
  },
  {
   "cell_type": "code",
   "execution_count": null,
   "id": "4f6aad5a",
   "metadata": {},
   "outputs": [],
   "source": [
    "\n",
    "f, ax = plt.subplots(figsize = (32,20))\n",
    "sns.heatmap(BC.corr(), annot = True, linewidths=0.5, linecolor = \"black\", fmt = \".4f\", ax = ax)\n",
    "plt.title(\"Correlation Between Features\")\n",
    "plt.show()\n"
   ]
  },
  {
   "cell_type": "code",
   "execution_count": null,
   "id": "9037483c",
   "metadata": {},
   "outputs": [],
   "source": [
    "# Create correlation matrix\n",
    "corr_mat = BC.corr()\n",
    "\n",
    "# Create mask\n",
    "mask = np.zeros_like(corr_mat, dtype=np.bool)\n",
    "mask[np.triu_indices_from(mask, k=1)] = True\n",
    "\n",
    "# Plot heatmap\n",
    "plt.figure(figsize=(15, 10))\n",
    "sns.heatmap(corr_mat, annot=True, fmt='.1f',\n",
    "            cmap='RdBu_r', vmin=-1, vmax=1,\n",
    "            mask=mask)"
   ]
  },
  {
   "cell_type": "code",
   "execution_count": null,
   "id": "6260a981",
   "metadata": {},
   "outputs": [],
   "source": [
    "plt.figure(figsize=(15, 10))\n",
    "sns.heatmap(corr_mat[corr_mat > 0.8], annot=True,\n",
    "            fmt='.1f', cmap=sns.cubehelix_palette(200), mask=mask)"
   ]
  },
  {
   "cell_type": "markdown",
   "id": "42c4ca11",
   "metadata": {},
   "source": [
    "***Correlation with Diagnosis:\n",
    "Correlation of Mean Features with Diagnosis:***"
   ]
  },
  {
   "cell_type": "code",
   "execution_count": null,
   "id": "94d98b9f",
   "metadata": {},
   "outputs": [],
   "source": [
    "plt.figure(figsize=(20, 8))\n",
    "BC_mean.drop('diagnosis', axis=1).corrwith(BC_mean.diagnosis).plot(kind='bar', grid=True, \n",
    "title=\"Correlation of Mean Features with Diagnosis\", color=\"cornflowerblue\");\n"
   ]
  },
  {
   "cell_type": "markdown",
   "id": "3d4685c8",
   "metadata": {},
   "source": [
    "***Correlation of Squared Error Features with Diagnosis:***"
   ]
  },
  {
   "cell_type": "code",
   "execution_count": null,
   "id": "f80c61cd",
   "metadata": {},
   "outputs": [],
   "source": [
    "plt.figure(figsize=(20, 8))\n",
    "BC_se.drop('diagnosis', axis=1).corrwith(BC_se.diagnosis).plot(kind='bar', grid=True,\n",
    "title=\"Correlation of Squared Error Features with Diagnosis\", color=\"cornflowerblue\");"
   ]
  },
  {
   "cell_type": "markdown",
   "id": "a2888c9a",
   "metadata": {},
   "source": [
    "***Correlation of Worst Features with Diagnosis:***"
   ]
  },
  {
   "cell_type": "code",
   "execution_count": null,
   "id": "3bf64c55",
   "metadata": {},
   "outputs": [],
   "source": [
    "plt.figure(figsize=(20, 8))\n",
    "BC_worst.drop('diagnosis', axis=1).corrwith(BC_worst.diagnosis).plot(kind='bar',\n",
    "grid=True, title=\"Correlation of Worst Error Features with Diagnosis\", color=\"cornflowerblue\");"
   ]
  },
  {
   "cell_type": "markdown",
   "id": "843a5d79",
   "metadata": {},
   "source": [
    "***Violinplot***"
   ]
  },
  {
   "cell_type": "code",
   "execution_count": null,
   "id": "5ab0d8c4",
   "metadata": {},
   "outputs": [],
   "source": [
    " y includes diagnosis column with M or B values\n",
    "y = BC.diagnosis\n",
    "# drop the column 'id' as it is does not convey any useful info\n",
    "# drop diagnosis since we are separating labels and features \n",
    "list = ['diagnosis']\n",
    "# X incudes our features\n",
    "X = BC.drop(list,axis = 1)\n",
    "# get the first ten features\n",
    "data_dia = y\n",
    "data = X\n",
    "data_std = (data - data.mean() / (data.std() ))# standardization\n",
    "# get the first 10 features\n",
    "data = pd.concat([y,data_std.iloc[:,0:10]],axis=1)\n",
    "data = pd.melt(data,id_vars='diagnosis',\n",
    " var_name='features',\n",
    " value_name='value')\n",
    "# make a violin plot\n",
    "plt.figure(figsize=(10,10))\n",
    "sns.violinplot(x='features', y='value', hue='diagnosis', data=data,split=True, inner='quart')\n",
    "plt.xticks(rotation=90)#"
   ]
  },
  {
   "cell_type": "code",
   "execution_count": null,
   "id": "ae722a6a",
   "metadata": {},
   "outputs": [],
   "source": [
    "sns.pairplot(BC, hue ='diagnosis')"
   ]
  },
  {
   "cell_type": "markdown",
   "id": "c7d33601",
   "metadata": {},
   "source": [
    "# Feature Selection"
   ]
  },
  {
   "cell_type": "code",
   "execution_count": null,
   "id": "68b55240",
   "metadata": {},
   "outputs": [],
   "source": [
    "Y = BC['diagnosis']\n",
    "X = BC.drop(['diagnosis'], axis=1)"
   ]
  },
  {
   "cell_type": "code",
   "execution_count": null,
   "id": "c493fb3c",
   "metadata": {},
   "outputs": [],
   "source": [
    "X.head()"
   ]
  },
  {
   "cell_type": "code",
   "execution_count": null,
   "id": "1f0a9c4c",
   "metadata": {},
   "outputs": [],
   "source": [
    "Y.head()"
   ]
  },
  {
   "cell_type": "markdown",
   "id": "fd187994",
   "metadata": {},
   "source": [
    "# Train-Test Split"
   ]
  },
  {
   "cell_type": "code",
   "execution_count": null,
   "id": "a9dc84a1",
   "metadata": {},
   "outputs": [],
   "source": [
    "X_train, X_test, Y_train, Y_test = train_test_split(X, Y, test_size = .30, random_state= 8)"
   ]
  },
  {
   "cell_type": "markdown",
   "id": "13a61c31",
   "metadata": {},
   "source": [
    "# Model Building"
   ]
  },
  {
   "cell_type": "code",
   "execution_count": null,
   "id": "d4882a39",
   "metadata": {},
   "outputs": [],
   "source": [
    "#Feature Scaling\n",
    "from sklearn.preprocessing import StandardScaler\n",
    "sc = StandardScaler()\n",
    "X_train = sc.fit_transform(X_train)\n",
    "X_test = sc.transform(X_test)"
   ]
  },
  {
   "cell_type": "code",
   "execution_count": null,
   "id": "a2c8a217",
   "metadata": {},
   "outputs": [],
   "source": [
    "X_train"
   ]
  },
  {
   "cell_type": "code",
   "execution_count": null,
   "id": "34a0d70e",
   "metadata": {
    "scrolled": true
   },
   "outputs": [],
   "source": [
    "X_test"
   ]
  },
  {
   "cell_type": "code",
   "execution_count": null,
   "id": "b6082db8",
   "metadata": {},
   "outputs": [],
   "source": [
    "from sklearn.linear_model import LogisticRegression\n",
    "logistic_regressor = LogisticRegression()\n",
    "logistic_regressor.fit(X_train, Y_train)"
   ]
  },
  {
   "cell_type": "code",
   "execution_count": null,
   "id": "9c40dc51",
   "metadata": {},
   "outputs": [],
   "source": [
    "y_pred = logistic_regressor.predict(X_test)\n"
   ]
  },
  {
   "cell_type": "code",
   "execution_count": null,
   "id": "8535756d",
   "metadata": {},
   "outputs": [],
   "source": [
    "y_pred[0:5]"
   ]
  },
  {
   "cell_type": "code",
   "execution_count": null,
   "id": "fe825d6c",
   "metadata": {},
   "outputs": [],
   "source": [
    "data = pd.DataFrame({'Actual': Y_test, 'Predicted': y_pred})\n",
    "data"
   ]
  },
  {
   "cell_type": "code",
   "execution_count": null,
   "id": "ec584b80",
   "metadata": {},
   "outputs": [],
   "source": [
    "y_prob = logistic_regressor.predict_proba(X_test)"
   ]
  },
  {
   "cell_type": "code",
   "execution_count": null,
   "id": "7cd70bc7",
   "metadata": {},
   "outputs": [],
   "source": [
    "y_prob[0:5]"
   ]
  },
  {
   "cell_type": "code",
   "execution_count": null,
   "id": "2fc3b584",
   "metadata": {},
   "outputs": [],
   "source": [
    "from sklearn.metrics import accuracy_score\n",
    "acc_score1 = accuracy_score(Y_test, y_pred)\n",
    "print(acc_score1)"
   ]
  },
  {
   "cell_type": "code",
   "execution_count": null,
   "id": "ea0eb779",
   "metadata": {},
   "outputs": [],
   "source": [
    "print(\"Training Score: \",logistic_regressor.score(X_train,Y_train)*100)"
   ]
  },
  {
   "cell_type": "code",
   "execution_count": null,
   "id": "d72d9e6e",
   "metadata": {},
   "outputs": [],
   "source": [
    "print(\"Testing Score: \",logistic_regressor.score(X_test,Y_test)*100)"
   ]
  },
  {
   "cell_type": "code",
   "execution_count": null,
   "id": "09aa8b28",
   "metadata": {},
   "outputs": [],
   "source": []
  },
  {
   "cell_type": "code",
   "execution_count": null,
   "id": "99bd72ba",
   "metadata": {},
   "outputs": [],
   "source": [
    "from sklearn.metrics import confusion_matrix\n",
    "Cm1 = confusion_matrix(Y_test,y_pred)\n",
    "Cm1"
   ]
  },
  {
   "cell_type": "code",
   "execution_count": null,
   "id": "5a93cab3",
   "metadata": {},
   "outputs": [],
   "source": [
    "from sklearn.metrics import confusion_matrix\n",
    "conf_matrix1 = confusion_matrix(Y_test, y_pred)\n",
    "dataframe_conf_matrix1 = conf_matrix1\n",
    "sns.heatmap(dataframe_conf_matrix1, annot=True)"
   ]
  },
  {
   "cell_type": "code",
   "execution_count": null,
   "id": "df76f1cb",
   "metadata": {},
   "outputs": [],
   "source": [
    "from sklearn.metrics import classification_report\n",
    "class_report1 = classification_report(Y_test, y_pred)\n",
    "print(class_report1)"
   ]
  },
  {
   "cell_type": "code",
   "execution_count": null,
   "id": "de2d0475",
   "metadata": {},
   "outputs": [],
   "source": [
    "Accuracy = (Cm1[0][0] + Cm1[1][1]) / (Cm1[0][0] + Cm1[1][1] + Cm1[0][1] + Cm1[1][0])\n",
    "print(\"Accuracy\",Accuracy)\n",
    "Error_rate = (Cm1[0][1] + Cm1[1][0]) / (Cm1[0][0] + Cm1[1][1] + Cm1[0][1] + Cm1[1][0])\n",
    "print(\"Error_rate\",Error_rate)\n",
    "Sensitivity = Cm1[0][0]/(Cm1[0][0] + Cm1[1][0])\n",
    "print(\"Sensitivity\",Sensitivity)\n",
    "Specificity = Cm1[1][1]/(Cm1[1][1] + Cm1[0][1])\n",
    "print(\"Specificity\",Specificity)\n"
   ]
  },
  {
   "cell_type": "code",
   "execution_count": null,
   "id": "c6c51ebf",
   "metadata": {},
   "outputs": [],
   "source": [
    "def doLogisticRegression(X, Y, test_size = 0.20, random_state = 42, penalty='l2', solver='lbfgs'):\n",
    "    X_train, X_test, Y_train, Y_test = train_test_split(X, Y, test_size = test_size, random_state = random_state)\n",
    "    logistic_regressor = LogisticRegression(penalty=penalty, solver=solver)\n",
    "    logistic_regressor.fit(X_train, Y_train)\n",
    "    y_pred = logistic_regressor.predict(X_test)\n",
    "    acc_score = accuracy_score(Y_test, y_pred)\n",
    "    return acc_score"
   ]
  },
  {
   "cell_type": "code",
   "execution_count": null,
   "id": "aa315ab6",
   "metadata": {},
   "outputs": [],
   "source": [
    "penalties = ['none', 'l2']\n",
    "test_size = [0.30, 0.25, 0.20]\n",
    "random_states = [10, 25, 55]\n",
    "solvers = ['newton-cg', 'lbfgs', 'liblinear', 'sag', 'saga']\n",
    "for t_size in test_size:\n",
    "    for r_state in random_states:\n",
    "        for penalty in penalties:\n",
    "            for solver in solvers:\n",
    "                accuracy = doLogisticRegression(X, Y, t_size, r_state, penalty)\n",
    "                print(\"Test: {} | Random State: {} | Penalty: {} | Solver: {} | Accuracy : {}\".format(t_size, r_state, penalty, solver, accuracy))"
   ]
  },
  {
   "cell_type": "code",
   "execution_count": null,
   "id": "70025bdb",
   "metadata": {},
   "outputs": [],
   "source": [
    "BC_1= pd.DataFrame(columns = ['Test Size', 'Random States', 'Penalty', 'Solvers', 'Accuracy'])\n",
    "BC_1"
   ]
  },
  {
   "cell_type": "code",
   "execution_count": null,
   "id": "0c50c07d",
   "metadata": {},
   "outputs": [],
   "source": [
    "penalties = ['none', 'l2']\n",
    "test_size = [0.30, 0.25, 0.20]\n",
    "random_states = [10, 25, 55]\n",
    "solvers = ['newton-cg', 'lbfgs', 'liblinear', 'sag', 'saga']\n",
    "for t_size in test_size:\n",
    "    for r_state in random_states:\n",
    "        for penalty in penalties:\n",
    "            for solver in solvers:\n",
    "                accuracy = doLogisticRegression(X, Y, t_size, r_state, penalty)\n",
    "#print(\"Test: {} | Random State: {} | Penalty: {} | Solver: {} | Accuracy : {}\".format\n",
    "#(t_size, r_state, penalty, solver, accuracy))\n",
    "                BCEvaluation = {}\n",
    "                BCEvaluation['Test Size'] = t_size\n",
    "                BCEvaluation['Random States'] = r_state\n",
    "                BCEvaluation['Penalty'] = penalty\n",
    "                BCEvaluation['Solvers'] = solver\n",
    "                BCEvaluation['Accuracy'] = accuracy\n",
    "                BC_1= BC_1.append(BCEvaluation, ignore_index = True)"
   ]
  },
  {
   "cell_type": "code",
   "execution_count": null,
   "id": "b954bc0a",
   "metadata": {},
   "outputs": [],
   "source": [
    "BC_1"
   ]
  },
  {
   "cell_type": "code",
   "execution_count": null,
   "id": "3a447e19",
   "metadata": {},
   "outputs": [],
   "source": [
    "sns.displot(x = 'Accuracy', data = BC_1)"
   ]
  },
  {
   "cell_type": "markdown",
   "id": "26457553",
   "metadata": {},
   "source": [
    "# Decision Tree"
   ]
  },
  {
   "cell_type": "code",
   "execution_count": null,
   "id": "eff074f6",
   "metadata": {},
   "outputs": [],
   "source": [
    "#Fitting Decision Tree classifier to the training set\n",
    "from sklearn.tree import DecisionTreeClassifier\n",
    "classifier= DecisionTreeClassifier()\n",
    "classifier.fit(X_train, Y_train)"
   ]
  },
  {
   "cell_type": "code",
   "execution_count": null,
   "id": "40c7e14f",
   "metadata": {},
   "outputs": [],
   "source": [
    "#Predicting the test set result\n",
    "y_pred= classifier.predict(X_test)\n",
    "y_pred"
   ]
  },
  {
   "cell_type": "code",
   "execution_count": null,
   "id": "f03aa250",
   "metadata": {},
   "outputs": [],
   "source": [
    "from sklearn.metrics import confusion_matrix\n",
    "conf_matrix = confusion_matrix(Y_test, y_pred)\n",
    "dataframe_conf_matrix = conf_matrix\n",
    "sns.heatmap(dataframe_conf_matrix, annot=True)"
   ]
  },
  {
   "cell_type": "code",
   "execution_count": null,
   "id": "45f817f9",
   "metadata": {},
   "outputs": [],
   "source": [
    "#Creating the Confusion matrix\n",
    "from sklearn.metrics import confusion_matrix\n",
    "cm= confusion_matrix(Y_test, y_pred)\n",
    "cm"
   ]
  },
  {
   "cell_type": "code",
   "execution_count": null,
   "id": "12b36b7d",
   "metadata": {},
   "outputs": [],
   "source": [
    "from sklearn.metrics import accuracy_score\n",
    "acc_score3 = accuracy_score(Y_test, y_pred)\n",
    "print(acc_score3)"
   ]
  },
  {
   "cell_type": "code",
   "execution_count": null,
   "id": "e32f18fd",
   "metadata": {},
   "outputs": [],
   "source": [
    "print(\"Training Score: \",classifier.score(X_train,Y_train)*100)"
   ]
  },
  {
   "cell_type": "code",
   "execution_count": null,
   "id": "8ba1fba9",
   "metadata": {},
   "outputs": [],
   "source": [
    "print(\"Testing Score: \",classifier.score(X_test,Y_test)*100)"
   ]
  },
  {
   "cell_type": "code",
   "execution_count": null,
   "id": "9e8a2d31",
   "metadata": {},
   "outputs": [],
   "source": [
    "from sklearn.metrics import classification_report\n",
    "class_report = classification_report(Y_test, y_pred)\n",
    "print(class_report)"
   ]
  },
  {
   "cell_type": "code",
   "execution_count": null,
   "id": "87b95e62",
   "metadata": {},
   "outputs": [],
   "source": [
    "Accuracy = (cm[0][0] + cm[1][1]) / (cm[0][0] + cm[1][1] + cm[0][1] + cm[1][0])\n",
    "print(\"Accuracy\",Accuracy)\n",
    "Error_rate = (cm[0][1] + cm[1][0]) / (cm[0][0] + cm[1][1] + cm[0][1] + cm[1][0])\n",
    "print(\"Error_rate\",Error_rate)\n",
    "Sensitivity = cm[0][0]/(cm[0][0] + cm[1][0])\n",
    "print(\"Sensitivity\",Sensitivity)\n",
    "Specificity = cm[1][1]/(cm[1][1] + cm[0][1])\n",
    "print(\"Specificity\",Specificity)\n"
   ]
  },
  {
   "cell_type": "code",
   "execution_count": null,
   "id": "ddfdcd63",
   "metadata": {},
   "outputs": [],
   "source": [
    "\n",
    "def doDecisionTreeClassifier(X, Y, test_size = 0.20, random_state = 42,criterion='gini', max_leaf_nodes=6, min_samples_split=4):\n",
    "    X_train, X_test, Y_train, Y_test = train_test_split(X, Y, test_size = test_size)\n",
    "    classifier= DecisionTreeClassifier()\n",
    "    classifier.fit(X_train, Y_train)\n",
    "    y_pred= classifier.predict(X_test)\n",
    "    acc_score = accuracy_score(Y_test, y_pred)\n",
    "    return acc_score"
   ]
  },
  {
   "cell_type": "code",
   "execution_count": null,
   "id": "e42e91f0",
   "metadata": {},
   "outputs": [],
   "source": [
    "BC_3= pd.DataFrame(columns = ['Test Size', 'Random States','Criterion' ,'Max_leaf_node', 'Min_samples_split'])\n",
    "BC_3"
   ]
  },
  {
   "cell_type": "code",
   "execution_count": null,
   "id": "06eedcad",
   "metadata": {},
   "outputs": [],
   "source": [
    "test_size = [0.30, 0.25, 0.20]\n",
    "random_states = [10, 25, 55]\n",
    "criterion=['gini','entropy']\n",
    "max_leaf_nodes= [2,4,6,10,15]\n",
    "min_samples_split=[2,3, 4]\n",
    "for t_size in test_size:\n",
    "    for r_state in random_states:\n",
    "        for crt in criterion:\n",
    "            for max_leaf in max_leaf_nodes:\n",
    "                for min_sample in min_samples_split:\n",
    "                    accuracy = doDecisionTreeClassifier(X, Y, t_size, r_state, max_leaf, min_sample)\n",
    "                    print(\"Test: {} | Random State: {} |Criterion:{}|Max_leaf_nodes:{}|min_sample_split:{}| Accuracy : {}\".format(t_size, r_state,crt, max_leaf, min_sample, accuracy))"
   ]
  },
  {
   "cell_type": "code",
   "execution_count": null,
   "id": "40bd819f",
   "metadata": {},
   "outputs": [],
   "source": [
    "test_size = [0.30, 0.25, 0.20]\n",
    "random_states = [10, 25, 55]\n",
    "criterion=['gini','entropy']\n",
    "max_leaf_nodes= [2,4,6,10,15]\n",
    "min_samples_split=[2,3, 4]\n",
    "\n",
    "for t_size in test_size:\n",
    "    for r_state in random_states:\n",
    "        for crt in criterion:\n",
    "            for max_leaf in max_leaf_nodes:\n",
    "                for min_sample in min_samples_split:\n",
    "                    accuracy = doDecisionTreeClassifier(X, Y, t_size, r_state,crt, max_leaf, min_sample)\n",
    "                    \n",
    "                    BCEvaluation = {}\n",
    "                    BCEvaluation['Test Size'] = t_size\n",
    "                    BCEvaluation['Random States'] = r_state\n",
    "                    BCEvaluation['Criterion'] = crt\n",
    "                    BCEvaluation['Max_leaf_node'] = max_leaf\n",
    "                    BCEvaluation['Min_samples_split'] = min_sample\n",
    "                    BCEvaluation['Accuracy'] = accuracy\n",
    "                    BC_3= BC_3.append(BCEvaluation, ignore_index = True)\n",
    "                \n",
    "        \n",
    "       # accuracy = doDecisionTreeClassifier(X, Y, t_size, r_state, max_leaf, min_sample)\n",
    "       #accuracy = doDecisionTreeClassifier(X, Y, t_size, r_state)\n",
    "                    #print(\"Test: {} | Random State: {} | Penalty: {} | Solver: {} | Accuracy : {}\".format(t_size, r_state, crt, max_leaf, min_sample,accuracy))\n",
    "\n",
    "        \n"
   ]
  },
  {
   "cell_type": "code",
   "execution_count": null,
   "id": "15f20cf3",
   "metadata": {},
   "outputs": [],
   "source": [
    "BC_3"
   ]
  },
  {
   "cell_type": "code",
   "execution_count": null,
   "id": "d26bf33b",
   "metadata": {},
   "outputs": [],
   "source": [
    "sns.displot(x = 'Accuracy', data = BC_3)"
   ]
  },
  {
   "cell_type": "markdown",
   "id": "7c909401",
   "metadata": {},
   "source": [
    "# Accuracy Score of Models"
   ]
  },
  {
   "cell_type": "code",
   "execution_count": null,
   "id": "05f384d5",
   "metadata": {},
   "outputs": [],
   "source": [
    "prediction_columns = [\"NAME OF MODEL\", \"ACCURACY SCORE\"]\n",
    "df_pred = {\"NAME OF MODEL\" : [\"LOGISTIC REGRESSION\",\"DECISION TREE\"],\n",
    "\"ACCURACY SCORE \" : [acc_score1, acc_score3]}\n",
    "df_predictions = pd.DataFrame (df_pred)\n",
    "df_predictions"
   ]
  },
  {
   "cell_type": "code",
   "execution_count": null,
   "id": "db0b6d89",
   "metadata": {},
   "outputs": [],
   "source": [
    "from sklearn.preprocessing import LabelEncoder, OneHotEncoder\n",
    "oHe = OneHotEncoder()"
   ]
  },
  {
   "cell_type": "code",
   "execution_count": null,
   "id": "4bc3d3a7",
   "metadata": {},
   "outputs": [],
   "source": [
    "parameters = [{'penalty': ['l1', 'l2'], 'C': [0.001, 0.01, 0.1, 1, 10, 100, 1000],\n",
    "'solver': ['newton-cg', 'lbfgs', 'liblinear', 'sag', 'saga']}]\n",
    "grid_search = GridSearchCV(estimator = logistic_regressor,\n",
    "param_grid = parameters,\n",
    "scoring = 'accuracy',\n",
    "cv = 10,\n",
    "n_jobs = -1)\n",
    "grid_search.fit(X_train, Y_train)\n",
    "best_accuracy_log = grid_search.best_score_\n",
    "best_parameters = grid_search.best_params_\n",
    "print(best_accuracy_log)\n",
    "print(best_parameters)"
   ]
  },
  {
   "cell_type": "code",
   "execution_count": null,
   "id": "580a535b",
   "metadata": {},
   "outputs": [],
   "source": [
    "parameters = [{'criterion':['gini','entropy'],\n",
    "'max_leaf_nodes': [2,4,6,10,15], 'min_samples_split': [2,3, 4]}]\n",
    "oHe = OneHotEncoder()\n",
    "grid_search = GridSearchCV(estimator = classifier,\n",
    "param_grid = parameters,\n",
    "scoring = 'accuracy',\n",
    "cv = 10,\n",
    "n_jobs = -1)\n",
    "grid_search.fit(X_train, Y_train)\n",
    "best_accuracy_dtc = grid_search.best_score_\n",
    "best_parameters = grid_search.best_params_\n",
    "print(best_accuracy_dtc)\n",
    "print(best_parameters)"
   ]
  },
  {
   "cell_type": "markdown",
   "id": "734df3bd",
   "metadata": {},
   "source": [
    "# Comparing models before and after ParameterTuning"
   ]
  },
  {
   "cell_type": "code",
   "execution_count": null,
   "id": "ff79bab4",
   "metadata": {},
   "outputs": [],
   "source": [
    "prediction_columns = [\"NAME OF MODEL\", \"ACCURACY SCORE\", \"BEST ACCURACY (AFTER HYPER-PARAMETER TUNING)\"]\n",
    "df_pred = {\"NAME OF MODEL\" : [\"LOGISTIC REGRESSION\", \"DECISION TREE\" ],\n",
    "           \"ACCURACY SCORE \" : [acc_score1,acc_score3],\n",
    "           \"BEST ACCURACY (AFTER HYPER-PARAMETER TUNING)\" : [best_accuracy_log,best_accuracy_dtc]}\n",
    "df_predictions = pd.DataFrame (df_pred)\n",
    "df_predictions"
   ]
  },
  {
   "cell_type": "code",
   "execution_count": null,
   "id": "580fadbe",
   "metadata": {},
   "outputs": [],
   "source": []
  },
  {
   "cell_type": "code",
   "execution_count": null,
   "id": "10b17558",
   "metadata": {},
   "outputs": [],
   "source": []
  },
  {
   "cell_type": "code",
   "execution_count": null,
   "id": "3cd05769",
   "metadata": {},
   "outputs": [],
   "source": []
  },
  {
   "cell_type": "code",
   "execution_count": null,
   "id": "3a884b4c",
   "metadata": {},
   "outputs": [],
   "source": []
  },
  {
   "cell_type": "code",
   "execution_count": null,
   "id": "94847271",
   "metadata": {},
   "outputs": [],
   "source": []
  },
  {
   "cell_type": "code",
   "execution_count": null,
   "id": "a2885560",
   "metadata": {},
   "outputs": [],
   "source": []
  },
  {
   "cell_type": "code",
   "execution_count": null,
   "id": "fe273b2d",
   "metadata": {},
   "outputs": [],
   "source": []
  },
  {
   "cell_type": "code",
   "execution_count": null,
   "id": "66498f9c",
   "metadata": {},
   "outputs": [],
   "source": []
  },
  {
   "cell_type": "code",
   "execution_count": null,
   "id": "478b0fe9",
   "metadata": {},
   "outputs": [],
   "source": []
  },
  {
   "cell_type": "code",
   "execution_count": null,
   "id": "820dc6c0",
   "metadata": {},
   "outputs": [],
   "source": []
  },
  {
   "cell_type": "code",
   "execution_count": null,
   "id": "960fc077",
   "metadata": {},
   "outputs": [],
   "source": []
  }
 ],
 "metadata": {
  "kernelspec": {
   "display_name": "Python 3",
   "language": "python",
   "name": "python3"
  },
  "language_info": {
   "codemirror_mode": {
    "name": "ipython",
    "version": 3
   },
   "file_extension": ".py",
   "mimetype": "text/x-python",
   "name": "python",
   "nbconvert_exporter": "python",
   "pygments_lexer": "ipython3",
   "version": "3.7.4"
  }
 },
 "nbformat": 4,
 "nbformat_minor": 5
}
